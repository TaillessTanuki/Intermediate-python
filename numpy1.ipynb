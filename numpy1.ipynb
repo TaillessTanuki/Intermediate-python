{
  "nbformat": 4,
  "nbformat_minor": 0,
  "metadata": {
    "colab": {
      "name": "numpy1.ipynb",
      "provenance": [],
      "collapsed_sections": [],
      "authorship_tag": "ABX9TyOPEi7/zku/uHdgyoNtzuQ+",
      "include_colab_link": true
    },
    "kernelspec": {
      "name": "python3",
      "display_name": "Python 3"
    },
    "language_info": {
      "name": "python"
    }
  },
  "cells": [
    {
      "cell_type": "markdown",
      "metadata": {
        "id": "view-in-github",
        "colab_type": "text"
      },
      "source": [
        "<a href=\"https://colab.research.google.com/github/TaillessTanuki/Intermediate-python/blob/main/numpy1.ipynb\" target=\"_parent\"><img src=\"https://colab.research.google.com/assets/colab-badge.svg\" alt=\"Open In Colab\"/></a>"
      ]
    },
    {
      "cell_type": "code",
      "execution_count": 1,
      "metadata": {
        "id": "i5ojevDbT1SC"
      },
      "outputs": [],
      "source": [
        "import numpy as np"
      ]
    },
    {
      "cell_type": "code",
      "source": [
        "np.__version__"
      ],
      "metadata": {
        "colab": {
          "base_uri": "https://localhost:8080/",
          "height": 35
        },
        "id": "lR9u8nDhVc2Q",
        "outputId": "795431cf-514b-4da3-f500-c43482ae750a"
      },
      "execution_count": 3,
      "outputs": [
        {
          "output_type": "execute_result",
          "data": {
            "text/plain": [
              "'1.21.6'"
            ],
            "application/vnd.google.colaboratory.intrinsic+json": {
              "type": "string"
            }
          },
          "metadata": {},
          "execution_count": 3
        }
      ]
    },
    {
      "cell_type": "markdown",
      "source": [
        "# array"
      ],
      "metadata": {
        "id": "_qlEWLOkccjj"
      }
    },
    {
      "cell_type": "code",
      "source": [
        "# python list cannot used arithmatic operation because it is not numeric\n",
        "# so we use np.array()\n",
        "\n",
        "a = [1,2,3,4,5]\n",
        "b = [6,7,8,9,10]\n",
        "\n",
        "numpy_a = np.array(a)\n",
        "numpy_b = np.array(b)"
      ],
      "metadata": {
        "id": "wv4FFgkfV7wX"
      },
      "execution_count": 4,
      "outputs": []
    },
    {
      "cell_type": "code",
      "source": [
        "print(numpy_a)\n",
        "print(numpy_b)\n",
        "\n",
        "print(numpy_a + numpy_b)\n",
        "print(numpy_a * numpy_b)"
      ],
      "metadata": {
        "colab": {
          "base_uri": "https://localhost:8080/"
        },
        "id": "tjDSeexxXOY2",
        "outputId": "9331a07f-7242-4f5a-8aa8-26faafec4b96"
      },
      "execution_count": 5,
      "outputs": [
        {
          "output_type": "stream",
          "name": "stdout",
          "text": [
            "[1 2 3 4 5]\n",
            "[ 6  7  8  9 10]\n",
            "[ 7  9 11 13 15]\n",
            "[ 6 14 24 36 50]\n"
          ]
        }
      ]
    },
    {
      "cell_type": "code",
      "source": [
        "print(type (a))\n",
        "print(type (b))\n",
        "print(type (numpy_a))\n",
        "print(type (numpy_b))"
      ],
      "metadata": {
        "colab": {
          "base_uri": "https://localhost:8080/"
        },
        "id": "_k4eogyeXuqo",
        "outputId": "52490bb5-b4ef-4648-9183-6941e2eb5e77"
      },
      "execution_count": 9,
      "outputs": [
        {
          "output_type": "stream",
          "name": "stdout",
          "text": [
            "<class 'list'>\n",
            "<class 'list'>\n",
            "<class 'numpy.ndarray'>\n",
            "<class 'numpy.ndarray'>\n"
          ]
        }
      ]
    },
    {
      "cell_type": "code",
      "source": [
        "#print( a.shape) a list has no shape\n",
        "#print(b.shape) b list has no shape\n",
        "print(numpy_a.shape)\n",
        "print(numpy_b.shape)"
      ],
      "metadata": {
        "colab": {
          "base_uri": "https://localhost:8080/"
        },
        "id": "yy7rPbeqYifz",
        "outputId": "1ee2cc90-736a-4e20-ceca-491d64a56a24"
      },
      "execution_count": 12,
      "outputs": [
        {
          "output_type": "stream",
          "name": "stdout",
          "text": [
            "(5,)\n",
            "(5,)\n"
          ]
        }
      ]
    },
    {
      "cell_type": "code",
      "source": [
        "#print( a.shape) a list has no attribute size\n",
        "#print(b.shape) a list has no attribute size\n",
        "print(numpy_a.size)\n",
        "print(numpy_b.size)"
      ],
      "metadata": {
        "colab": {
          "base_uri": "https://localhost:8080/"
        },
        "id": "SxIO59dXZESb",
        "outputId": "1f3dfa30-ba32-48ea-a993-468293237389"
      },
      "execution_count": 15,
      "outputs": [
        {
          "output_type": "stream",
          "name": "stdout",
          "text": [
            "5\n",
            "5\n"
          ]
        }
      ]
    },
    {
      "cell_type": "code",
      "source": [
        "# 2D array\n",
        "numpy_c = np.array(([1,2,3],[4,5,6]))\n",
        "print(numpy_c)\n",
        "print('---------------------')\n",
        "print(type(numpy_c))\n",
        "print('---------------------')\n",
        "print(numpy_c.shape)\n",
        "print('---------------------')\n",
        "print(numpy_c.size)\n",
        "print('---------------------')"
      ],
      "metadata": {
        "colab": {
          "base_uri": "https://localhost:8080/"
        },
        "id": "YZXW-8ZQo_QU",
        "outputId": "b71ae750-750a-4972-b95e-2f8810d63109"
      },
      "execution_count": 31,
      "outputs": [
        {
          "output_type": "stream",
          "name": "stdout",
          "text": [
            "[[1 2 3]\n",
            " [4 5 6]]\n",
            "---------------------\n",
            "<class 'numpy.ndarray'>\n",
            "---------------------\n",
            "(2, 3)\n",
            "---------------------\n",
            "6\n",
            "---------------------\n"
          ]
        }
      ]
    },
    {
      "cell_type": "code",
      "source": [
        "# 3D array\n",
        "numpy_d = np.array(([[1,2,3],[4,5,6]],[[7,8,9],[10,11,12]]))\n",
        "print(numpy_d)\n",
        "print('---------------------')\n",
        "print(type(numpy_d))\n",
        "print('---------------------')\n",
        "print(numpy_d.shape)\n",
        "print('---------------------')\n",
        "print(numpy_d.size)\n",
        "print('---------------------')"
      ],
      "metadata": {
        "colab": {
          "base_uri": "https://localhost:8080/"
        },
        "id": "iqSIJU2OpVNG",
        "outputId": "9793e851-5354-466d-ab7e-db951c2dfc69"
      },
      "execution_count": 33,
      "outputs": [
        {
          "output_type": "stream",
          "name": "stdout",
          "text": [
            "[[[ 1  2  3]\n",
            "  [ 4  5  6]]\n",
            "\n",
            " [[ 7  8  9]\n",
            "  [10 11 12]]]\n",
            "---------------------\n",
            "<class 'numpy.ndarray'>\n",
            "---------------------\n",
            "(2, 2, 3)\n",
            "---------------------\n",
            "12\n",
            "---------------------\n"
          ]
        }
      ]
    },
    {
      "cell_type": "code",
      "source": [
        ""
      ],
      "metadata": {
        "id": "Ovkvs46TbODd"
      },
      "execution_count": null,
      "outputs": []
    },
    {
      "cell_type": "markdown",
      "source": [
        "# array generating function"
      ],
      "metadata": {
        "id": "TTvFIPh5cjJi"
      }
    },
    {
      "cell_type": "markdown",
      "source": [
        "## matrix zeros or np.zeros()"
      ],
      "metadata": {
        "id": "kD52wOqsqWt9"
      }
    },
    {
      "cell_type": "code",
      "source": [
        "#creating matrix zeros\n",
        "\n",
        "zero_matrix = np.zeros(5)\n",
        "print(zero_matrix)\n",
        "print('---------------------')\n",
        "zero_matrix2 = np.zeros((5,3))\n",
        "print(zero_matrix2)"
      ],
      "metadata": {
        "colab": {
          "base_uri": "https://localhost:8080/"
        },
        "id": "fTeVbeHza7JS",
        "outputId": "e5c329d5-4de2-4fbe-bcc9-0ee5acf6df8f"
      },
      "execution_count": 19,
      "outputs": [
        {
          "output_type": "stream",
          "name": "stdout",
          "text": [
            "[0. 0. 0. 0. 0.]\n",
            "---------------------\n",
            "[[0. 0. 0.]\n",
            " [0. 0. 0.]\n",
            " [0. 0. 0.]\n",
            " [0. 0. 0.]\n",
            " [0. 0. 0.]]\n"
          ]
        }
      ]
    },
    {
      "cell_type": "markdown",
      "source": [
        "## matrix ones / 1 or np.ones()"
      ],
      "metadata": {
        "id": "5Rd7IbReqjrN"
      }
    },
    {
      "cell_type": "code",
      "source": [
        "#creating matrix ones\n",
        "\n",
        "zero_matrix = np.ones(5)\n",
        "print(zero_matrix)\n",
        "print('---------------------')\n",
        "zero_matrix2 = np.ones((5,3))\n",
        "print(zero_matrix2)"
      ],
      "metadata": {
        "colab": {
          "base_uri": "https://localhost:8080/"
        },
        "id": "b0evmRgpqtE3",
        "outputId": "2fe03c4e-059c-43f9-bc86-a607f7a93f8d"
      },
      "execution_count": 34,
      "outputs": [
        {
          "output_type": "stream",
          "name": "stdout",
          "text": [
            "[1. 1. 1. 1. 1.]\n",
            "---------------------\n",
            "[[1. 1. 1.]\n",
            " [1. 1. 1.]\n",
            " [1. 1. 1.]\n",
            " [1. 1. 1.]\n",
            " [1. 1. 1.]]\n"
          ]
        }
      ]
    },
    {
      "cell_type": "markdown",
      "source": [
        "## arange"
      ],
      "metadata": {
        "id": "t1vVx-3gdYjJ"
      }
    },
    {
      "cell_type": "code",
      "source": [
        "# arange\n",
        "f = np.arange(10)\n",
        "f"
      ],
      "metadata": {
        "colab": {
          "base_uri": "https://localhost:8080/"
        },
        "id": "kTFnrXv0cw4D",
        "outputId": "bdbe35cf-13c5-4cf4-c5d2-076d695d4061"
      },
      "execution_count": 21,
      "outputs": [
        {
          "output_type": "execute_result",
          "data": {
            "text/plain": [
              "array([0, 1, 2, 3, 4, 5, 6, 7, 8, 9])"
            ]
          },
          "metadata": {},
          "execution_count": 21
        }
      ]
    },
    {
      "cell_type": "code",
      "source": [
        "g = np.arange(10,20)\n",
        "g"
      ],
      "metadata": {
        "colab": {
          "base_uri": "https://localhost:8080/"
        },
        "id": "WL5IdccRc_bu",
        "outputId": "84242f9b-37b8-4cd6-c72d-ca096431e447"
      },
      "execution_count": 22,
      "outputs": [
        {
          "output_type": "execute_result",
          "data": {
            "text/plain": [
              "array([10, 11, 12, 13, 14, 15, 16, 17, 18, 19])"
            ]
          },
          "metadata": {},
          "execution_count": 22
        }
      ]
    },
    {
      "cell_type": "code",
      "source": [
        "h = np.arange(10,20,2) #(start, finish, step)\n",
        "h"
      ],
      "metadata": {
        "colab": {
          "base_uri": "https://localhost:8080/"
        },
        "id": "bzcO4i_UdHbU",
        "outputId": "3f2be618-5cd3-4057-a4cd-98d72ed38026"
      },
      "execution_count": 23,
      "outputs": [
        {
          "output_type": "execute_result",
          "data": {
            "text/plain": [
              "array([10, 12, 14, 16, 18])"
            ]
          },
          "metadata": {},
          "execution_count": 23
        }
      ]
    },
    {
      "cell_type": "code",
      "source": [
        "i = np.arange(-1,1,0.1)\n",
        "i\n"
      ],
      "metadata": {
        "colab": {
          "base_uri": "https://localhost:8080/"
        },
        "id": "EKKLTPLFdU9a",
        "outputId": "c2d557c6-683b-4220-d84f-3844aebd3a20"
      },
      "execution_count": 25,
      "outputs": [
        {
          "output_type": "execute_result",
          "data": {
            "text/plain": [
              "array([-1.00000000e+00, -9.00000000e-01, -8.00000000e-01, -7.00000000e-01,\n",
              "       -6.00000000e-01, -5.00000000e-01, -4.00000000e-01, -3.00000000e-01,\n",
              "       -2.00000000e-01, -1.00000000e-01, -2.22044605e-16,  1.00000000e-01,\n",
              "        2.00000000e-01,  3.00000000e-01,  4.00000000e-01,  5.00000000e-01,\n",
              "        6.00000000e-01,  7.00000000e-01,  8.00000000e-01,  9.00000000e-01])"
            ]
          },
          "metadata": {},
          "execution_count": 25
        }
      ]
    },
    {
      "cell_type": "code",
      "source": [
        ""
      ],
      "metadata": {
        "id": "kSRvMIh_dkr2"
      },
      "execution_count": null,
      "outputs": []
    }
  ]
}