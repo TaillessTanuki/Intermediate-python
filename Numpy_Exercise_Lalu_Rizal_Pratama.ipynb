{
  "nbformat": 4,
  "nbformat_minor": 0,
  "metadata": {
    "colab": {
      "name": "Numpy Exercise_Lalu Rizal Pratama.ipynb",
      "provenance": [],
      "collapsed_sections": [
        "bNqBcrW_f-Vv",
        "D37MZYTEhc8j",
        "Gf1IQMJThmiH",
        "k8_nwTzNiQUE",
        "QheAMrbtjWo2",
        "wEXYSDnLmK_c",
        "DGyVNejnqk1V"
      ],
      "authorship_tag": "ABX9TyPwER4UyjeTuZmCPEz4o2m3",
      "include_colab_link": true
    },
    "kernelspec": {
      "name": "python3",
      "display_name": "Python 3"
    },
    "language_info": {
      "name": "python"
    }
  },
  "cells": [
    {
      "cell_type": "markdown",
      "metadata": {
        "id": "view-in-github",
        "colab_type": "text"
      },
      "source": [
        "<a href=\"https://colab.research.google.com/github/TaillessTanuki/Intermediate-python/blob/main/Numpy_Exercise_Lalu_Rizal_Pratama.ipynb\" target=\"_parent\"><img src=\"https://colab.research.google.com/assets/colab-badge.svg\" alt=\"Open In Colab\"/></a>"
      ]
    },
    {
      "cell_type": "code",
      "source": [
        "import numpy as np"
      ],
      "metadata": {
        "id": "aYI4LUqseyNt"
      },
      "execution_count": 1,
      "outputs": []
    },
    {
      "cell_type": "markdown",
      "source": [
        "# Exercise 1"
      ],
      "metadata": {
        "id": "bNqBcrW_f-Vv"
      }
    },
    {
      "cell_type": "markdown",
      "source": [
        "### 1. create matrix from a list which has 4 rows and 3 columns"
      ],
      "metadata": {
        "id": "rD1e5S3veqlO"
      }
    },
    {
      "cell_type": "code",
      "execution_count": 2,
      "metadata": {
        "colab": {
          "base_uri": "https://localhost:8080/"
        },
        "id": "9Ft1yx24eEE4",
        "outputId": "50d3f2a4-5f63-402d-a0f7-925b9696dc12"
      },
      "outputs": [
        {
          "output_type": "execute_result",
          "data": {
            "text/plain": [
              "array([[ 1,  2,  3],\n",
              "       [ 4,  5,  6],\n",
              "       [ 7,  8,  9],\n",
              "       [10, 11, 12]])"
            ]
          },
          "metadata": {},
          "execution_count": 2
        }
      ],
      "source": [
        "a = np.array([[1,2,3],\n",
        "              [4,5,6],\n",
        "              [7,8,9],\n",
        "              [10,11,12]])\n",
        "a"
      ]
    },
    {
      "cell_type": "code",
      "source": [
        "a.shape"
      ],
      "metadata": {
        "colab": {
          "base_uri": "https://localhost:8080/"
        },
        "id": "W-2Ha7bbfJhk",
        "outputId": "f2e900d9-dbd4-465b-8fa5-ef9dfb8384b9"
      },
      "execution_count": 3,
      "outputs": [
        {
          "output_type": "execute_result",
          "data": {
            "text/plain": [
              "(4, 3)"
            ]
          },
          "metadata": {},
          "execution_count": 3
        }
      ]
    },
    {
      "cell_type": "markdown",
      "source": [
        "### 2. Create the following matrix \n",
        "[[2,7,12,0],\n",
        "[3,9,3,4],\n",
        "[4,0,1,3]]"
      ],
      "metadata": {
        "id": "2xwKYmxLfNfs"
      }
    },
    {
      "cell_type": "code",
      "source": [
        "b = np.array([[2,7,12,0],\n",
        "              [3,9,3,4],\n",
        "              [4,0,1,3]])\n",
        "b"
      ],
      "metadata": {
        "colab": {
          "base_uri": "https://localhost:8080/"
        },
        "id": "QAiTVWnxfLj_",
        "outputId": "c6346db2-1eeb-4b52-f682-c7c77fead4c6"
      },
      "execution_count": 4,
      "outputs": [
        {
          "output_type": "execute_result",
          "data": {
            "text/plain": [
              "array([[ 2,  7, 12,  0],\n",
              "       [ 3,  9,  3,  4],\n",
              "       [ 4,  0,  1,  3]])"
            ]
          },
          "metadata": {},
          "execution_count": 4
        }
      ]
    },
    {
      "cell_type": "markdown",
      "source": [
        "### 3. Create a 2D matrix with size of 10"
      ],
      "metadata": {
        "id": "0eEefKgrgazy"
      }
    },
    {
      "cell_type": "code",
      "source": [
        "c = np.array([0,1,2,3,4,5,6,7,8,9])\n",
        "c"
      ],
      "metadata": {
        "colab": {
          "base_uri": "https://localhost:8080/"
        },
        "id": "FCAzp2MHghr5",
        "outputId": "ff235642-f3b9-4383-c5f1-dc89f276f583"
      },
      "execution_count": 5,
      "outputs": [
        {
          "output_type": "execute_result",
          "data": {
            "text/plain": [
              "array([0, 1, 2, 3, 4, 5, 6, 7, 8, 9])"
            ]
          },
          "metadata": {},
          "execution_count": 5
        }
      ]
    },
    {
      "cell_type": "code",
      "source": [
        "c.size"
      ],
      "metadata": {
        "colab": {
          "base_uri": "https://localhost:8080/"
        },
        "id": "6jmkUo0vgoeZ",
        "outputId": "f43bd694-7fd4-4c26-b8a8-bc0060ba9617"
      },
      "execution_count": 6,
      "outputs": [
        {
          "output_type": "execute_result",
          "data": {
            "text/plain": [
              "10"
            ]
          },
          "metadata": {},
          "execution_count": 6
        }
      ]
    },
    {
      "cell_type": "markdown",
      "source": [
        "### 4. Create a 3D matrix of ones which has 2 rows, 3 columns, and 3 depth"
      ],
      "metadata": {
        "id": "eVRI8bvdgsoA"
      }
    },
    {
      "cell_type": "code",
      "source": [
        "d = np.array([[[1,2,3],\n",
        "               [4,5,6],\n",
        "               [13,14,15]],\n",
        "              \n",
        "              [[7,8,9],\n",
        "               [10,11,12],\n",
        "               [17,18,19]]])\n",
        "d"
      ],
      "metadata": {
        "colab": {
          "base_uri": "https://localhost:8080/"
        },
        "id": "ZEKleAPSgrNF",
        "outputId": "05f3c329-dfbf-4c8b-f07d-62a0f81ab918"
      },
      "execution_count": 9,
      "outputs": [
        {
          "output_type": "execute_result",
          "data": {
            "text/plain": [
              "array([[[ 1,  2,  3],\n",
              "        [ 4,  5,  6],\n",
              "        [13, 14, 15]],\n",
              "\n",
              "       [[ 7,  8,  9],\n",
              "        [10, 11, 12],\n",
              "        [17, 18, 19]]])"
            ]
          },
          "metadata": {},
          "execution_count": 9
        }
      ]
    },
    {
      "cell_type": "code",
      "source": [
        "d.shape"
      ],
      "metadata": {
        "colab": {
          "base_uri": "https://localhost:8080/"
        },
        "id": "v0_0PClkhM3i",
        "outputId": "71b3aa9e-cbe7-47f7-85e5-142b95c13f0e"
      },
      "execution_count": 10,
      "outputs": [
        {
          "output_type": "execute_result",
          "data": {
            "text/plain": [
              "(2, 3, 3)"
            ]
          },
          "metadata": {},
          "execution_count": 10
        }
      ]
    },
    {
      "cell_type": "markdown",
      "source": [
        "# Exercise 2"
      ],
      "metadata": {
        "id": "D37MZYTEhc8j"
      }
    },
    {
      "cell_type": "markdown",
      "source": [
        "### 1. Generate a 1-D array containing 5 random integers from 0 to 100:"
      ],
      "metadata": {
        "id": "Gf1IQMJThmiH"
      }
    },
    {
      "cell_type": "code",
      "source": [
        "e = np.random.randint(0,100, size=5)\n",
        "e"
      ],
      "metadata": {
        "colab": {
          "base_uri": "https://localhost:8080/"
        },
        "id": "dDwzU2iZhQmx",
        "outputId": "e544ab52-d371-4ccb-bed1-ec6ac3cc694b"
      },
      "execution_count": 11,
      "outputs": [
        {
          "output_type": "execute_result",
          "data": {
            "text/plain": [
              "array([99, 25, 80, 13, 75])"
            ]
          },
          "metadata": {},
          "execution_count": 11
        }
      ]
    },
    {
      "cell_type": "markdown",
      "source": [
        "### 2. Generate a 2-D array with 3 rows, each row contains 5 random integers from 0 to 100"
      ],
      "metadata": {
        "id": "k8_nwTzNiQUE"
      }
    },
    {
      "cell_type": "code",
      "source": [
        "f = np.random.randint(0,100,size = (3,5))\n",
        "f"
      ],
      "metadata": {
        "colab": {
          "base_uri": "https://localhost:8080/"
        },
        "id": "flp0MQUkiVUQ",
        "outputId": "e5f99964-077b-4528-96f3-c62823aac4a7"
      },
      "execution_count": 13,
      "outputs": [
        {
          "output_type": "execute_result",
          "data": {
            "text/plain": [
              "array([[89, 55, 18, 87, 12],\n",
              "       [55, 88,  8, 62,  3],\n",
              "       [83, 61,  0, 31, 19]])"
            ]
          },
          "metadata": {},
          "execution_count": 13
        }
      ]
    },
    {
      "cell_type": "markdown",
      "source": [
        "### 3. Generate a 1-D array of 30 evenly spaced elements between 1.5 and 5.5, inclusive."
      ],
      "metadata": {
        "id": "aP7N7Gw2i-Zy"
      }
    },
    {
      "cell_type": "code",
      "source": [
        "g = np.linspace(1.5, 5.5,30)\n",
        "g"
      ],
      "metadata": {
        "colab": {
          "base_uri": "https://localhost:8080/"
        },
        "id": "61zgw48HiqHW",
        "outputId": "48a40745-5509-4a3e-bf7e-c4edbfa17ad5"
      },
      "execution_count": 15,
      "outputs": [
        {
          "output_type": "execute_result",
          "data": {
            "text/plain": [
              "array([1.5       , 1.63793103, 1.77586207, 1.9137931 , 2.05172414,\n",
              "       2.18965517, 2.32758621, 2.46551724, 2.60344828, 2.74137931,\n",
              "       2.87931034, 3.01724138, 3.15517241, 3.29310345, 3.43103448,\n",
              "       3.56896552, 3.70689655, 3.84482759, 3.98275862, 4.12068966,\n",
              "       4.25862069, 4.39655172, 4.53448276, 4.67241379, 4.81034483,\n",
              "       4.94827586, 5.0862069 , 5.22413793, 5.36206897, 5.5       ])"
            ]
          },
          "metadata": {},
          "execution_count": 15
        }
      ]
    },
    {
      "cell_type": "markdown",
      "source": [
        "# Exercise 3 "
      ],
      "metadata": {
        "id": "QheAMrbtjWo2"
      }
    },
    {
      "cell_type": "markdown",
      "source": [
        "### 1. create a 3x3 matrix with values ranging from 2 to 10"
      ],
      "metadata": {
        "id": "tUdn6__xjqYg"
      }
    },
    {
      "cell_type": "code",
      "source": [
        "h = np.arange(2,11).reshape(3,3)\n",
        "h"
      ],
      "metadata": {
        "colab": {
          "base_uri": "https://localhost:8080/"
        },
        "id": "xirjyy0fjN4Q",
        "outputId": "14829830-b2fe-462e-f637-9e4f4efe07a3"
      },
      "execution_count": 19,
      "outputs": [
        {
          "output_type": "execute_result",
          "data": {
            "text/plain": [
              "array([[ 2,  3,  4],\n",
              "       [ 5,  6,  7],\n",
              "       [ 8,  9, 10]])"
            ]
          },
          "metadata": {},
          "execution_count": 19
        }
      ]
    },
    {
      "cell_type": "markdown",
      "source": [
        "### 2. concentenate the following arrays\n",
        "####b [[0,1,3],[5,7,9]]\n",
        "####c [[0,2,4],[6,8,10]]"
      ],
      "metadata": {
        "id": "xckn1I45k2SE"
      }
    },
    {
      "cell_type": "code",
      "source": [
        "i = np.array([[0,1,3],[5,7,9]])\n",
        "j = np.array([[0,2,4],[6,8,10]])\n",
        "\n",
        "print(i)\n",
        "print('________________')\n",
        "print(j)"
      ],
      "metadata": {
        "colab": {
          "base_uri": "https://localhost:8080/"
        },
        "id": "DIHrM9ZSkwh6",
        "outputId": "b7b67bd0-4b04-44ac-a6d6-8b62e8c6a49a"
      },
      "execution_count": 22,
      "outputs": [
        {
          "output_type": "stream",
          "name": "stdout",
          "text": [
            "[[0 1 3]\n",
            " [5 7 9]]\n",
            "________________\n",
            "[[ 0  2  4]\n",
            " [ 6  8 10]]\n"
          ]
        }
      ]
    },
    {
      "cell_type": "code",
      "source": [
        "k = np.append(i,j, axis =0)\n",
        "k"
      ],
      "metadata": {
        "colab": {
          "base_uri": "https://localhost:8080/"
        },
        "id": "yRxLwirilW5t",
        "outputId": "5ed61853-a2df-4403-877c-af4629a85b36"
      },
      "execution_count": 23,
      "outputs": [
        {
          "output_type": "execute_result",
          "data": {
            "text/plain": [
              "array([[ 0,  1,  3],\n",
              "       [ 5,  7,  9],\n",
              "       [ 0,  2,  4],\n",
              "       [ 6,  8, 10]])"
            ]
          },
          "metadata": {},
          "execution_count": 23
        }
      ]
    },
    {
      "cell_type": "code",
      "source": [
        "k = np.append(i,j, axis =1)\n",
        "k"
      ],
      "metadata": {
        "colab": {
          "base_uri": "https://localhost:8080/"
        },
        "id": "ue3KzRbhl7rE",
        "outputId": "b76d1ee5-8d3c-44e0-cefc-baeb7588b7e1"
      },
      "execution_count": 24,
      "outputs": [
        {
          "output_type": "execute_result",
          "data": {
            "text/plain": [
              "array([[ 0,  1,  3,  0,  2,  4],\n",
              "       [ 5,  7,  9,  6,  8, 10]])"
            ]
          },
          "metadata": {},
          "execution_count": 24
        }
      ]
    },
    {
      "cell_type": "markdown",
      "source": [
        "# Exercise 4"
      ],
      "metadata": {
        "id": "wEXYSDnLmK_c"
      }
    },
    {
      "cell_type": "markdown",
      "source": [
        "### 1. create a null vector / 1D array of size 10 and update fifth index to 11."
      ],
      "metadata": {
        "id": "v6WQ1kHEmN6y"
      }
    },
    {
      "cell_type": "code",
      "source": [
        "l = np.zeros(10)\n",
        "l"
      ],
      "metadata": {
        "colab": {
          "base_uri": "https://localhost:8080/"
        },
        "id": "fIzQUUAQmWms",
        "outputId": "b78143ae-fbb5-4889-8631-043b76fd31ac"
      },
      "execution_count": 25,
      "outputs": [
        {
          "output_type": "execute_result",
          "data": {
            "text/plain": [
              "array([0., 0., 0., 0., 0., 0., 0., 0., 0., 0.])"
            ]
          },
          "metadata": {},
          "execution_count": 25
        }
      ]
    },
    {
      "cell_type": "code",
      "source": [
        "l = np.append(l, 11)"
      ],
      "metadata": {
        "id": "BC5-YAJdmauX"
      },
      "execution_count": 30,
      "outputs": []
    },
    {
      "cell_type": "code",
      "source": [
        "l"
      ],
      "metadata": {
        "colab": {
          "base_uri": "https://localhost:8080/"
        },
        "id": "lShfK3gemiUu",
        "outputId": "caa92b87-b2e3-4410-eadd-3a93bfb8319e"
      },
      "execution_count": 31,
      "outputs": [
        {
          "output_type": "execute_result",
          "data": {
            "text/plain": [
              "array([ 0.,  0.,  0.,  0.,  0.,  0.,  0.,  0.,  0.,  0., 11.])"
            ]
          },
          "metadata": {},
          "execution_count": 31
        }
      ]
    },
    {
      "cell_type": "markdown",
      "source": [
        "### 2. Write a NumPy program to create a 2x3 arrays and change it into 3x2 arrays"
      ],
      "metadata": {
        "id": "-ow2FRZInAJD"
      }
    },
    {
      "cell_type": "code",
      "source": [
        "m = np.random.randint(0,100,size=(2,3))\n",
        "m"
      ],
      "metadata": {
        "colab": {
          "base_uri": "https://localhost:8080/"
        },
        "id": "5vgjQNu1m-mt",
        "outputId": "5aaf82d6-b007-4a73-b64f-8ab44e40fd78"
      },
      "execution_count": 35,
      "outputs": [
        {
          "output_type": "execute_result",
          "data": {
            "text/plain": [
              "array([[96, 73, 55],\n",
              "       [69, 21, 68]])"
            ]
          },
          "metadata": {},
          "execution_count": 35
        }
      ]
    },
    {
      "cell_type": "code",
      "source": [
        "m.reshape(3,2)"
      ],
      "metadata": {
        "colab": {
          "base_uri": "https://localhost:8080/"
        },
        "id": "a1vfYUqDnUrP",
        "outputId": "8e9fe90a-0ef0-4c72-9a4e-0ba778724749"
      },
      "execution_count": 36,
      "outputs": [
        {
          "output_type": "execute_result",
          "data": {
            "text/plain": [
              "array([[96, 73],\n",
              "       [55, 69],\n",
              "       [21, 68]])"
            ]
          },
          "metadata": {},
          "execution_count": 36
        }
      ]
    },
    {
      "cell_type": "markdown",
      "source": [
        "### 3. Write a NumPy program to create a 2d array with 1 on the border and 0 inside. "
      ],
      "metadata": {
        "id": "iCepnPiEn6PN"
      }
    },
    {
      "cell_type": "code",
      "source": [
        "n = np.ones(16).reshape(4,4)\n",
        "n"
      ],
      "metadata": {
        "colab": {
          "base_uri": "https://localhost:8080/"
        },
        "id": "J2N8IcLln5LD",
        "outputId": "6433f30f-a5c2-4faf-9167-a3d79fc5ec53"
      },
      "execution_count": 44,
      "outputs": [
        {
          "output_type": "execute_result",
          "data": {
            "text/plain": [
              "array([[1., 1., 1., 1.],\n",
              "       [1., 1., 1., 1.],\n",
              "       [1., 1., 1., 1.],\n",
              "       [1., 1., 1., 1.]])"
            ]
          },
          "metadata": {},
          "execution_count": 44
        }
      ]
    },
    {
      "cell_type": "code",
      "source": [
        "n[1:3,1:3]=0\n",
        "n"
      ],
      "metadata": {
        "colab": {
          "base_uri": "https://localhost:8080/"
        },
        "id": "u0TGDfyeoWJC",
        "outputId": "0db13895-0f47-42e0-ed31-553b658d27f6"
      },
      "execution_count": 45,
      "outputs": [
        {
          "output_type": "execute_result",
          "data": {
            "text/plain": [
              "array([[1., 1., 1., 1.],\n",
              "       [1., 0., 0., 1.],\n",
              "       [1., 0., 0., 1.],\n",
              "       [1., 1., 1., 1.]])"
            ]
          },
          "metadata": {},
          "execution_count": 45
        }
      ]
    },
    {
      "cell_type": "markdown",
      "source": [
        "### 4. Take a look at the following matrix. Access the [2, 1,1]"
      ],
      "metadata": {
        "id": "sXyGpnMJqcAR"
      }
    },
    {
      "cell_type": "code",
      "source": [
        "o = np.array([[[0, 1, 3],\n",
        "               [5, 7, 9],\n",
        "               [6, 8, 10]],\n",
        "              \n",
        "              [[0, 2, 4],\n",
        "               [6, 8, 10],\n",
        "               [0, 1, 3]],\n",
        "             \n",
        "              [[1, 1, 2],\n",
        "               [5, 2, 9],\n",
        "               [1, 3, 3]]])"
      ],
      "metadata": {
        "id": "7W6DO_WBqTBC"
      },
      "execution_count": 46,
      "outputs": []
    },
    {
      "cell_type": "code",
      "source": [
        "o[2,1,1]"
      ],
      "metadata": {
        "colab": {
          "base_uri": "https://localhost:8080/"
        },
        "id": "t3kxBkRfqlOe",
        "outputId": "0d87b3bd-0d0b-4f20-a287-3e3d11c5b2f8"
      },
      "execution_count": 48,
      "outputs": [
        {
          "output_type": "execute_result",
          "data": {
            "text/plain": [
              "2"
            ]
          },
          "metadata": {},
          "execution_count": 48
        }
      ]
    },
    {
      "cell_type": "markdown",
      "source": [
        "# Assignment"
      ],
      "metadata": {
        "id": "DGyVNejnqk1V"
      }
    },
    {
      "cell_type": "markdown",
      "source": [
        "### 1. Create a 4x4 matrix with values ranging from 0 to 3.\n",
        "(The following image is just as an example. It doesn't represent the real image of arrays in the question) "
      ],
      "metadata": {
        "id": "NjQRD47drE2B"
      }
    },
    {
      "cell_type": "code",
      "source": [
        "x = np.random.randint(4, size=16).reshape(4,4)\n",
        "x"
      ],
      "metadata": {
        "colab": {
          "base_uri": "https://localhost:8080/"
        },
        "id": "BMxZDHzpq9fY",
        "outputId": "f5c6d5a4-22a7-4165-a6d7-65f2b5f9cbfd"
      },
      "execution_count": 61,
      "outputs": [
        {
          "output_type": "execute_result",
          "data": {
            "text/plain": [
              "array([[1, 3, 0, 1],\n",
              "       [2, 2, 1, 0],\n",
              "       [1, 2, 1, 0],\n",
              "       [1, 0, 1, 0]])"
            ]
          },
          "metadata": {},
          "execution_count": 61
        }
      ]
    },
    {
      "cell_type": "markdown",
      "source": [
        "### 2. Create an array with shape of 4x4 and turn it into two arrays along the second axis. (along second axis = on the column = horizontal"
      ],
      "metadata": {
        "id": "DjMCID4gsnu4"
      }
    },
    {
      "cell_type": "code",
      "source": [
        "y = np.random.randint(10, size = 16).reshape(4,4)\n",
        "y"
      ],
      "metadata": {
        "colab": {
          "base_uri": "https://localhost:8080/"
        },
        "id": "QWADOtvssN_L",
        "outputId": "e4b4691b-c699-4b27-d88e-c1b02c51e406"
      },
      "execution_count": 63,
      "outputs": [
        {
          "output_type": "execute_result",
          "data": {
            "text/plain": [
              "array([[2, 0, 2, 5],\n",
              "       [4, 7, 2, 8],\n",
              "       [5, 5, 4, 7],\n",
              "       [5, 6, 6, 9]])"
            ]
          },
          "metadata": {},
          "execution_count": 63
        }
      ]
    },
    {
      "cell_type": "code",
      "source": [
        "new_arrays = np.hsplit(y,2)\n",
        "new_arrays"
      ],
      "metadata": {
        "colab": {
          "base_uri": "https://localhost:8080/"
        },
        "id": "lLj242gMs9PO",
        "outputId": "f4e7ac7f-ce40-448c-a3a9-903c860a0aef"
      },
      "execution_count": 67,
      "outputs": [
        {
          "output_type": "execute_result",
          "data": {
            "text/plain": [
              "[array([[2, 0],\n",
              "        [4, 7],\n",
              "        [5, 5],\n",
              "        [5, 6]]), array([[2, 5],\n",
              "        [2, 8],\n",
              "        [4, 7],\n",
              "        [6, 9]])]"
            ]
          },
          "metadata": {},
          "execution_count": 67
        }
      ]
    },
    {
      "cell_type": "code",
      "source": [
        "z1 = new_arrays[0]\n",
        "z2 = new_arrays[1]\n",
        "print(z1)\n",
        "print('--------')\n",
        "print(z2)"
      ],
      "metadata": {
        "colab": {
          "base_uri": "https://localhost:8080/"
        },
        "id": "c7fkA60ttm6C",
        "outputId": "5bd56321-2c3a-4b19-8248-0476b0e8db3e"
      },
      "execution_count": 68,
      "outputs": [
        {
          "output_type": "stream",
          "name": "stdout",
          "text": [
            "[[2 0]\n",
            " [4 7]\n",
            " [5 5]\n",
            " [5 6]]\n",
            "--------\n",
            "[[2 5]\n",
            " [2 8]\n",
            " [4 7]\n",
            " [6 9]]\n"
          ]
        }
      ]
    },
    {
      "cell_type": "code",
      "source": [
        ""
      ],
      "metadata": {
        "id": "vj2z8dant6Vm"
      },
      "execution_count": null,
      "outputs": []
    }
  ]
}